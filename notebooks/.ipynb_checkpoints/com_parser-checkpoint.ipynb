{
 "cells": [
  {
   "cell_type": "code",
   "execution_count": 1,
   "metadata": {},
   "outputs": [],
   "source": [
    "import math, os, sys\n",
    "import json\n",
    "import plotly.express as px\n",
    "import pandas as pd\n",
    "import numpy as np\n",
    "import cv2\n",
    "from skimage import io\n",
    "from matplotlib import pyplot as plt\n",
    "from collections import defaultdict\n",
    "import random, string\n",
    "from scipy.interpolate import UnivariateSpline, SmoothBivariateSpline\n",
    "from datetime import datetime\n",
    "HOME = os.path.expanduser(\"~\")\n",
    "PATH = os.path.join(HOME, 'programming/activebrainatlas')\n",
    "sys.path.append(PATH)\n",
    "os.environ[\"DJANGO_ALLOW_ASYNC_UNSAFE\"] = \"true\"\n",
    "os.environ.setdefault(\"DJANGO_SETTINGS_MODULE\", \"activebrainatlas.settings\")\n",
    "import django\n",
    "django.setup()"
   ]
  },
  {
   "cell_type": "code",
   "execution_count": 2,
   "metadata": {},
   "outputs": [],
   "source": [
    "def random_string():\n",
    "    return ''.join(random.choices(string.ascii_lowercase + string.digits, k=40))"
   ]
  },
  {
   "cell_type": "code",
   "execution_count": null,
   "metadata": {},
   "outputs": [],
   "source": [
    "from plotly.offline import plot\n",
    "import plotly.graph_objects as go"
   ]
  },
  {
   "cell_type": "code",
   "execution_count": 3,
   "metadata": {},
   "outputs": [],
   "source": [
    "from neuroglancer.models import UrlModel, LayerData, Structure, Transformation\n",
    "from brain.models import Animal, ScanRun\n",
    "from workflow.models import Task, TaskView, ProgressLookup\n",
    "from neuroglancer.atlas import brain_to_atlas_transform, align_atlas"
   ]
  },
  {
   "cell_type": "code",
   "execution_count": null,
   "metadata": {},
   "outputs": [],
   "source": [
    "com_users = LayerData.objects.filter(active=True).values('person_id').distinct()\n",
    "com_dates = LayerData.objects.filter(active=True)\\\n",
    ".filter(input_type__input_type__in=['manual', 'detected'])\\\n",
    ".values_list('created', flat=True).distinct().order_by()\n",
    "print(com_dates)"
   ]
  },
  {
   "cell_type": "code",
   "execution_count": null,
   "metadata": {},
   "outputs": [],
   "source": [
    "users = User.objects.filter(id__in=com_users)"
   ]
  },
  {
   "cell_type": "code",
   "execution_count": null,
   "metadata": {},
   "outputs": [],
   "source": [
    "Animal.objects.filter(layerdata__active=True).distinct().order_by()"
   ]
  },
  {
   "cell_type": "code",
   "execution_count": null,
   "metadata": {},
   "outputs": [],
   "source": [
    "count = LayerData.objects.filter(prep_id='Atlas').filter(active=True).count()        \n",
    "print(count, type(count))"
   ]
  },
  {
   "cell_type": "code",
   "execution_count": 71,
   "metadata": {},
   "outputs": [],
   "source": [
    "id = 283 # has points\n",
    "#id = 307 # not points\n",
    "urlModel = UrlModel.objects.get(pk=id)\n",
    "urlModels = [urlModel]"
   ]
  },
  {
   "cell_type": "code",
   "execution_count": 4,
   "metadata": {},
   "outputs": [
    {
     "name": "stdout",
     "output_type": "stream",
     "text": [
      "14\n"
     ]
    }
   ],
   "source": [
    "urlModels = UrlModel.objects.filter(vetted=True).all()\n",
    "print(len(urlModels))"
   ]
  },
  {
   "cell_type": "code",
   "execution_count": 72,
   "metadata": {},
   "outputs": [
    {
     "name": "stdout",
     "output_type": "stream",
     "text": [
      "1len structures 0\n",
      "1len df 2063\n",
      "2len structures 2063\n",
      "2len df 2063\n",
      "1len structures 0\n",
      "1len df 35\n",
      "2len structures 35\n",
      "2len df 35\n",
      "1len structures 0\n",
      "1len df 9\n",
      "2len structures 9\n",
      "2len df 9\n"
     ]
    }
   ],
   "source": [
    "dfs = []\n",
    "for urlModel in urlModels:\n",
    "    json_txt = urlModel.url\n",
    "    layers = json_txt['layers']\n",
    "    for layer in layers:\n",
    "        if 'annotations' in layer:\n",
    "            name = layer['name']\n",
    "            annotation = layer['annotations']\n",
    "            d = [row['point'] for row in annotation if 'point' in row and 'pointA' not in row]\n",
    "            df = pd.DataFrame(d, columns=['X', 'Y', 'Section'])\n",
    "            df['Section'] = df['Section'].astype(int)\n",
    "            df['Layer'] = name\n",
    "            structures = [row['description'] for row in annotation if 'description' in row]\n",
    "            if len(structures) != len(df):\n",
    "                structures = ['' for row in annotation if 'point' in row and 'pointA' not in row]\n",
    "            df['Description'] = structures\n",
    "            df = df[['Layer', 'Description', 'X', 'Y', 'Section']]\n",
    "            dfs.append(df)\n",
    "    if len(dfs) == 0:\n",
    "        result = None\n",
    "    elif len(dfs) == 1:\n",
    "        result = dfs[0]\n",
    "    else:\n",
    "        result = pd.concat(dfs)"
   ]
  },
  {
   "cell_type": "code",
   "execution_count": 73,
   "metadata": {},
   "outputs": [
    {
     "data": {
      "text/html": [
       "<div>\n",
       "<style scoped>\n",
       "    .dataframe tbody tr th:only-of-type {\n",
       "        vertical-align: middle;\n",
       "    }\n",
       "\n",
       "    .dataframe tbody tr th {\n",
       "        vertical-align: top;\n",
       "    }\n",
       "\n",
       "    .dataframe thead th {\n",
       "        text-align: right;\n",
       "    }\n",
       "</style>\n",
       "<table border=\"1\" class=\"dataframe\">\n",
       "  <thead>\n",
       "    <tr style=\"text-align: right;\">\n",
       "      <th></th>\n",
       "      <th>Layer</th>\n",
       "      <th>Description</th>\n",
       "      <th>X</th>\n",
       "      <th>Y</th>\n",
       "      <th>Section</th>\n",
       "    </tr>\n",
       "  </thead>\n",
       "  <tbody>\n",
       "    <tr>\n",
       "      <th>0</th>\n",
       "      <td>Premotor</td>\n",
       "      <td></td>\n",
       "      <td>36418.734375</td>\n",
       "      <td>19700.191406</td>\n",
       "      <td>124</td>\n",
       "    </tr>\n",
       "    <tr>\n",
       "      <th>1</th>\n",
       "      <td>Premotor</td>\n",
       "      <td></td>\n",
       "      <td>36385.957031</td>\n",
       "      <td>19514.843750</td>\n",
       "      <td>124</td>\n",
       "    </tr>\n",
       "    <tr>\n",
       "      <th>2</th>\n",
       "      <td>Premotor</td>\n",
       "      <td></td>\n",
       "      <td>41504.574219</td>\n",
       "      <td>14066.053711</td>\n",
       "      <td>128</td>\n",
       "    </tr>\n",
       "    <tr>\n",
       "      <th>3</th>\n",
       "      <td>Premotor</td>\n",
       "      <td></td>\n",
       "      <td>41209.875000</td>\n",
       "      <td>14259.295898</td>\n",
       "      <td>136</td>\n",
       "    </tr>\n",
       "    <tr>\n",
       "      <th>4</th>\n",
       "      <td>Premotor</td>\n",
       "      <td></td>\n",
       "      <td>41190.750000</td>\n",
       "      <td>14322.129883</td>\n",
       "      <td>136</td>\n",
       "    </tr>\n",
       "  </tbody>\n",
       "</table>\n",
       "</div>"
      ],
      "text/plain": [
       "      Layer Description             X             Y  Section\n",
       "0  Premotor              36418.734375  19700.191406      124\n",
       "1  Premotor              36385.957031  19514.843750      124\n",
       "2  Premotor              41504.574219  14066.053711      128\n",
       "3  Premotor              41209.875000  14259.295898      136\n",
       "4  Premotor              41190.750000  14322.129883      136"
      ]
     },
     "execution_count": 73,
     "metadata": {},
     "output_type": "execute_result"
    }
   ],
   "source": [
    "result.head()"
   ]
  },
  {
   "cell_type": "code",
   "execution_count": null,
   "metadata": {},
   "outputs": [],
   "source": [
    "json_txt = urlModel.url\n",
    "layer_list = []\n",
    "layers = json_txt['layers']\n",
    "for layer in layers:\n",
    "    if 'annotations' in layer:\n",
    "        layer_name = layer['name']\n",
    "        layer_list.append(layer_name)\n",
    "print(layer_list)\n",
    "print(urlModel.layers)"
   ]
  },
  {
   "cell_type": "code",
   "execution_count": null,
   "metadata": {
    "scrolled": true
   },
   "outputs": [],
   "source": [
    "from django.db.models import Count\n",
    "result = Task.objects.all().filter(lookup__channel__in=[0,1]).filter(lookup__downsample=False)\\\n",
    ".filter(prep__active=True)\\\n",
    ".values('prep_id').annotate(total=Count('prep_id')).order_by('prep_id')"
   ]
  },
  {
   "cell_type": "code",
   "execution_count": null,
   "metadata": {},
   "outputs": [],
   "source": [
    "animals = Animal.objects.filter(active=True).order_by('prep_id').all()\n",
    "tasks = TaskView.objects.filter(prep_id__in=animals).order_by('prep_id').all()\n",
    "lookups = ProgressLookup.objects.filter(channel__in=[0,1]).filter(downsample=False).order_by('id').all()\n",
    "\n",
    "al = []\n",
    "x = [] \n",
    "i = 0\n",
    "for animal in animals:\n",
    "    if animal.aliases_1 is None:\n",
    "        continue\n",
    "    al.append(str(animal.prep_id + '-' + animal.aliases_1))\n",
    "    x.append(result[i]['total'])\n",
    "    i += 1\n",
    "\n",
    "lookup_list = []\n",
    "id_list = []\n",
    "for i, lookup in enumerate(lookups):\n",
    "    id_list.append(i)\n",
    "    lookup_list.append(lookup.description)"
   ]
  },
  {
   "cell_type": "code",
   "execution_count": null,
   "metadata": {},
   "outputs": [],
   "source": [
    "get_colors = lambda n: list(map(lambda i: \"#\" + \"%06x\" % random.randint(0x00FF00, 0x00FFFF), range(n)))\n",
    "colors = get_colors(len(x))\n",
    "#colors = [x*19 for x in range(len(x))]\n",
    "marker={'color': colors, 'colorscale': 'Viridis'}\n",
    "fig = go.Figure(data=[go.Bar(x=x, y=al, orientation='h', marker=marker )])\n",
    "fig.update_layout(xaxis_showgrid=True, yaxis_showgrid=True, height=600)\n",
    "fig.update_xaxes(ticks='outside',tickwidth=2, tickangle=45, tickcolor='crimson', ticklen=10, range=[0,limit-1])\n",
    "fig.update_layout(autosize=True, xaxis=dict(tickmode='array', tickvals=id_list, ticktext=lookup_list),\n",
    "                  margin=dict(l=20, r=20, t=20, b=280),\n",
    "                  paper_bgcolor=\"LightSteelBlue\",\n",
    "                  )\n",
    "fig.show()"
   ]
  },
  {
   "cell_type": "code",
   "execution_count": null,
   "metadata": {},
   "outputs": [],
   "source": [
    "df = pd.DataFrame(list(LayerData.objects.all().values()))\n",
    "df2 = df.groupby([df['created'].dt.date])[[\"x\", \"y\", \"section\"]].mean()\n",
    "df2.head(2)"
   ]
  },
  {
   "cell_type": "code",
   "execution_count": null,
   "metadata": {},
   "outputs": [],
   "source": [
    "INPUT = '/net/birdstore/Active_Atlas_Data/data_root/pipeline_data/DK52/preps/CH3/thumbnail_aligned'\n",
    "section = 201\n",
    "file = f'{section}.tif' \n",
    "infile = os.path.join(INPUT, file)\n",
    "prep_id = 'DK52'\n",
    "layer_name = 'PremotorShape'\n",
    "input_type_id = 5\n",
    "rows = LayerData.objects.filter(prep_id=prep_id).filter(layer=layer_name)\\\n",
    "    .filter(input_type_id=input_type_id).filter(active=True).order_by('section','id').all()\n",
    "print(len(rows))"
   ]
  },
  {
   "cell_type": "code",
   "execution_count": null,
   "metadata": {},
   "outputs": [],
   "source": [
    "data_dict = defaultdict(list)\n",
    "for row in rows:\n",
    "    id = row.segment_id\n",
    "    x = int(row.x // 32)\n",
    "    y = int(row.y // 32)\n",
    "    section = row.section\n",
    "    data_dict[(id,section)].append((x,y))"
   ]
  },
  {
   "cell_type": "code",
   "execution_count": null,
   "metadata": {},
   "outputs": [],
   "source": [
    "for (id,section), points in data_dict.items():\n",
    "    if section == 201:\n",
    "        print(id,section, len(points))"
   ]
  },
  {
   "cell_type": "code",
   "execution_count": null,
   "metadata": {},
   "outputs": [],
   "source": [
    "data = []\n",
    "for (id,section), points in data_dict.items():\n",
    "    lp = len(points)\n",
    "    for i in  range(lp):\n",
    "        tmp_dict = {}\n",
    "        pointA = points[i]\n",
    "        try:\n",
    "            pointB = points[i+1]\n",
    "        except IndexError as error:\n",
    "            pointB = points[0]\n",
    "        tmp_dict['id'] = random_string()\n",
    "        tmp_dict['pointA'] = [pointA[0], pointA[1], section]\n",
    "        tmp_dict['pointB'] = [pointB[0], pointB[1], section]\n",
    "        tmp_dict['type'] = 'line'\n",
    "        tmp_dict['description'] = \"\"\n",
    "        data.append(tmp_dict)"
   ]
  },
  {
   "cell_type": "code",
   "execution_count": null,
   "metadata": {},
   "outputs": [],
   "source": [
    "id = 64690\n",
    "sub_dict = data_dict[(id,section)]\n",
    "print(len(sub_dict), id, section)\n",
    "print(sub_dict)"
   ]
  },
  {
   "cell_type": "code",
   "execution_count": null,
   "metadata": {},
   "outputs": [],
   "source": [
    "def interpolateXX(input, fi):\n",
    "    i, f = int(fi // 1), fi % 1  # Split floating-point index into whole & fractional parts.\n",
    "    j = i+1 if f > 0 else i  # Avoid index error.\n",
    "    x = (1-f) * input[i][0] + f * input[j][0]\n",
    "    y = (1-f) * input[i][1] + f * input[j][1]\n",
    "    return (round(x,4), round(y,4))\n",
    "def interpolate(points, new_len):\n",
    "    x = [v[0] for v in points]\n",
    "    y = [v[1] for v in points]\n",
    "    vx = np.array(x)\n",
    "    vy = np.array(y)\n",
    "    indices = np.arange(0,len(points))\n",
    "    new_indices = np.linspace(0,len(points)-1,new_len)\n",
    "    splx = UnivariateSpline(indices,vx,k=3,s=0)\n",
    "    x_array = splx(new_indices)\n",
    "    sply = UnivariateSpline(indices,vy,k=3,s=1)\n",
    "    y_array = sply(new_indices)\n",
    "    arr_2d = np.concatenate([x_array[:,None],y_array[:,None]], axis=1)\n",
    "    a = list(map(tuple, arr_2d))\n",
    "    return a\n"
   ]
  },
  {
   "cell_type": "code",
   "execution_count": null,
   "metadata": {},
   "outputs": [],
   "source": [
    "sub_dict"
   ]
  },
  {
   "cell_type": "code",
   "execution_count": null,
   "metadata": {},
   "outputs": [],
   "source": [
    "points = sub_dict\n",
    "new_len = max(len(points),20)\n",
    "delta = (len(points)-1) / (new_len-1)\n",
    "\n",
    "#outp = [interpolate(points, i*delta) for i in range(new_len)]\n",
    "outp = interpolate(points)\n",
    "\n",
    "outp = [(int(i), int(j)) for i,j in outp]\n",
    "\n",
    "print('points',(points))\n",
    "print('lin out',outp)\n",
    "print('len original array', len(points))\n",
    "print('len new array', len(outp))\n",
    "\n",
    "\n"
   ]
  },
  {
   "cell_type": "code",
   "execution_count": null,
   "metadata": {},
   "outputs": [],
   "source": [
    "file = f'{section}.tif' \n",
    "infile = os.path.join(INPUT, file)\n",
    "\n",
    "img = io.imread(infile, img_num=0)\n",
    "color = (255,255,255)\n",
    "for (id,s), points in data_dict.items():\n",
    "        if s == section and len(points) > 3:\n",
    "            new_len = max(len(points),5000)\n",
    "            print(new_len)\n",
    "            outp = interpolate(points, new_len)\n",
    "            points = [(int(i), int(j)) for i,j in outp]\n",
    "\n",
    "            lp = len(points)\n",
    "            for i in  range(new_len):\n",
    "                pointA = points[i]\n",
    "                try:\n",
    "                    pointB = points[i+1]\n",
    "                except IndexError as error:\n",
    "                    pointB = points[0]\n",
    "                cv2.line(img, pointA, pointB, color, 2)"
   ]
  },
  {
   "cell_type": "code",
   "execution_count": null,
   "metadata": {
    "scrolled": true
   },
   "outputs": [],
   "source": [
    "#cv2.polylines(img, [points], isClosed=True, color=(0,0,0), thickness=5)\n",
    "fig=plt.figure(figsize=(26,18), dpi= 100, facecolor='w', edgecolor='k')\n",
    "plt.imshow(img, cmap=\"gray\")\n",
    "plt.title('{} section:{}'.format(prep_id, section))\n",
    "plt.show()"
   ]
  }
 ],
 "metadata": {
  "kernelspec": {
   "display_name": "Django Shell-Plus",
   "language": "python",
   "name": "django_extensions"
  },
  "language_info": {
   "codemirror_mode": {
    "name": "ipython",
    "version": 3
   },
   "file_extension": ".py",
   "mimetype": "text/x-python",
   "name": "python",
   "nbconvert_exporter": "python",
   "pygments_lexer": "ipython3",
   "version": "3.8.5"
  }
 },
 "nbformat": 4,
 "nbformat_minor": 4
}
