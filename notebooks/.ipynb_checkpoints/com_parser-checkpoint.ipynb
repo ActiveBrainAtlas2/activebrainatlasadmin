{
 "cells": [
  {
   "cell_type": "code",
   "execution_count": 8,
   "metadata": {},
   "outputs": [],
   "source": [
    "import math, os, sys\n",
    "import json\n",
    "import plotly.express as px\n",
    "import pandas as pd\n",
    "import numpy as np\n",
    "import cv2\n",
    "from skimage import io\n",
    "from matplotlib import pyplot as plt\n",
    "from collections import defaultdict\n",
    "import random, string\n",
    "from scipy.interpolate import UnivariateSpline, SmoothBivariateSpline,splprep, splev\n",
    "from datetime import datetime\n",
    "HOME = os.path.expanduser(\"~\")\n",
    "PATH = os.path.join(HOME, 'programming/activebrainatlas')\n",
    "sys.path.append(PATH)\n",
    "os.environ[\"DJANGO_ALLOW_ASYNC_UNSAFE\"] = \"true\"\n",
    "os.environ.setdefault(\"DJANGO_SETTINGS_MODULE\", \"activebrainatlas.settings\")\n",
    "import django\n",
    "django.setup()"
   ]
  },
  {
   "cell_type": "code",
   "execution_count": null,
   "metadata": {},
   "outputs": [],
   "source": [
    "def random_string():\n",
    "    return ''.join(random.choices(string.ascii_lowercase + string.digits, k=40))"
   ]
  },
  {
   "cell_type": "code",
   "execution_count": null,
   "metadata": {},
   "outputs": [],
   "source": [
    "from plotly.offline import plot\n",
    "import plotly.graph_objects as go"
   ]
  },
  {
   "cell_type": "code",
   "execution_count": 2,
   "metadata": {},
   "outputs": [],
   "source": [
    "from neuroglancer.models import UrlModel, LayerData, Structure, Transformation\n",
    "from brain.models import Animal, ScanRun\n",
    "from neuroglancer.atlas import brain_to_atlas_transform, align_atlas"
   ]
  },
  {
   "cell_type": "code",
   "execution_count": null,
   "metadata": {},
   "outputs": [],
   "source": [
    "com_users = LayerData.objects.filter(active=True).values('person_id').distinct()\n",
    "com_dates = LayerData.objects.filter(active=True)\\\n",
    ".filter(input_type__input_type__in=['manual', 'detected'])\\\n",
    ".values_list('created', flat=True).distinct().order_by()\n",
    "print(com_dates)"
   ]
  },
  {
   "cell_type": "code",
   "execution_count": null,
   "metadata": {},
   "outputs": [],
   "source": [
    "users = User.objects.filter(id__in=com_users)"
   ]
  },
  {
   "cell_type": "code",
   "execution_count": null,
   "metadata": {},
   "outputs": [],
   "source": [
    "Animal.objects.filter(layerdata__active=True).distinct().order_by()"
   ]
  },
  {
   "cell_type": "code",
   "execution_count": null,
   "metadata": {},
   "outputs": [],
   "source": [
    "count = LayerData.objects.filter(prep_id='Atlas').filter(active=True).count()        \n",
    "print(count, type(count))"
   ]
  },
  {
   "cell_type": "code",
   "execution_count": null,
   "metadata": {},
   "outputs": [],
   "source": [
    "id = 283 # has points\n",
    "#id = 307 # not points\n",
    "urlModel = UrlModel.objects.get(pk=id)\n",
    "urlModels = [urlModel]"
   ]
  },
  {
   "cell_type": "code",
   "execution_count": null,
   "metadata": {},
   "outputs": [],
   "source": [
    "urlModels = UrlModel.objects.filter(vetted=True).all()\n",
    "print(len(urlModels))"
   ]
  },
  {
   "cell_type": "code",
   "execution_count": null,
   "metadata": {},
   "outputs": [],
   "source": [
    "dfs = []\n",
    "for urlModel in urlModels:\n",
    "    json_txt = urlModel.url\n",
    "    layers = json_txt['layers']\n",
    "    for layer in layers:\n",
    "        if 'annotations' in layer:\n",
    "            name = layer['name']\n",
    "            annotation = layer['annotations']\n",
    "            d = [row['point'] for row in annotation if 'point' in row and 'pointA' not in row]\n",
    "            df = pd.DataFrame(d, columns=['X', 'Y', 'Section'])\n",
    "            df['Section'] = df['Section'].astype(int)\n",
    "            df['Layer'] = name\n",
    "            structures = [row['description'] for row in annotation if 'description' in row]\n",
    "            if len(structures) != len(df):\n",
    "                structures = ['' for row in annotation if 'point' in row and 'pointA' not in row]\n",
    "            df['Description'] = structures\n",
    "            df = df[['Layer', 'Description', 'X', 'Y', 'Section']]\n",
    "            dfs.append(df)\n",
    "    if len(dfs) == 0:\n",
    "        result = None\n",
    "    elif len(dfs) == 1:\n",
    "        result = dfs[0]\n",
    "    else:\n",
    "        result = pd.concat(dfs)"
   ]
  },
  {
   "cell_type": "code",
   "execution_count": null,
   "metadata": {},
   "outputs": [],
   "source": [
    "result.head()"
   ]
  },
  {
   "cell_type": "code",
   "execution_count": null,
   "metadata": {},
   "outputs": [],
   "source": [
    "json_txt = urlModel.url\n",
    "layer_list = []\n",
    "layers = json_txt['layers']\n",
    "for layer in layers:\n",
    "    if 'annotations' in layer:\n",
    "        layer_name = layer['name']\n",
    "        layer_list.append(layer_name)\n",
    "print(layer_list)\n",
    "print(urlModel.layers)"
   ]
  },
  {
   "cell_type": "code",
   "execution_count": null,
   "metadata": {
    "scrolled": true
   },
   "outputs": [],
   "source": [
    "from django.db.models import Count\n",
    "result = Task.objects.all().filter(lookup__channel__in=[0,1]).filter(lookup__downsample=False)\\\n",
    ".filter(prep__active=True)\\\n",
    ".values('prep_id').annotate(total=Count('prep_id')).order_by('prep_id')"
   ]
  },
  {
   "cell_type": "code",
   "execution_count": null,
   "metadata": {},
   "outputs": [],
   "source": [
    "animals = Animal.objects.filter(active=True).order_by('prep_id').all()\n",
    "tasks = TaskView.objects.filter(prep_id__in=animals).order_by('prep_id').all()\n",
    "lookups = ProgressLookup.objects.filter(channel__in=[0,1]).filter(downsample=False).order_by('id').all()\n",
    "\n",
    "al = []\n",
    "x = [] \n",
    "i = 0\n",
    "for animal in animals:\n",
    "    if animal.aliases_1 is None:\n",
    "        continue\n",
    "    al.append(str(animal.prep_id + '-' + animal.aliases_1))\n",
    "    x.append(result[i]['total'])\n",
    "    i += 1\n",
    "\n",
    "lookup_list = []\n",
    "id_list = []\n",
    "for i, lookup in enumerate(lookups):\n",
    "    id_list.append(i)\n",
    "    lookup_list.append(lookup.description)"
   ]
  },
  {
   "cell_type": "code",
   "execution_count": null,
   "metadata": {},
   "outputs": [],
   "source": [
    "get_colors = lambda n: list(map(lambda i: \"#\" + \"%06x\" % random.randint(0x00FF00, 0x00FFFF), range(n)))\n",
    "colors = get_colors(len(x))\n",
    "#colors = [x*19 for x in range(len(x))]\n",
    "marker={'color': colors, 'colorscale': 'Viridis'}\n",
    "fig = go.Figure(data=[go.Bar(x=x, y=al, orientation='h', marker=marker )])\n",
    "fig.update_layout(xaxis_showgrid=True, yaxis_showgrid=True, height=600)\n",
    "fig.update_xaxes(ticks='outside',tickwidth=2, tickangle=45, tickcolor='crimson', ticklen=10, range=[0,limit-1])\n",
    "fig.update_layout(autosize=True, xaxis=dict(tickmode='array', tickvals=id_list, ticktext=lookup_list),\n",
    "                  margin=dict(l=20, r=20, t=20, b=280),\n",
    "                  paper_bgcolor=\"LightSteelBlue\",\n",
    "                  )\n",
    "fig.show()"
   ]
  },
  {
   "cell_type": "code",
   "execution_count": null,
   "metadata": {},
   "outputs": [],
   "source": [
    "df = pd.DataFrame(list(LayerData.objects.all().values()))\n",
    "df2 = df.groupby([df['created'].dt.date])[[\"x\", \"y\", \"section\"]].mean()\n",
    "df2.head(2)"
   ]
  },
  {
   "cell_type": "code",
   "execution_count": 3,
   "metadata": {},
   "outputs": [
    {
     "name": "stdout",
     "output_type": "stream",
     "text": [
      "824\n"
     ]
    }
   ],
   "source": [
    "INPUT = '/net/birdstore/Active_Atlas_Data/data_root/pipeline_data/DK52/preps/CH3/thumbnail_aligned'\n",
    "section = 201\n",
    "file = f'{section}.tif' \n",
    "infile = os.path.join(INPUT, file)\n",
    "prep_id = 'DK52'\n",
    "layer_name = 'PremotorShape'\n",
    "input_type_id = 5\n",
    "rows = LayerData.objects.filter(prep_id=prep_id).filter(layer=layer_name)\\\n",
    "    .filter(input_type_id=input_type_id).filter(active=True).order_by('section','id').all()\n",
    "print(len(rows))"
   ]
  },
  {
   "cell_type": "code",
   "execution_count": 4,
   "metadata": {},
   "outputs": [],
   "source": [
    "data_dict = defaultdict(list)\n",
    "for row in rows:\n",
    "    id = row.segment_id\n",
    "    x = int(row.x // 32)\n",
    "    y = int(row.y // 32)\n",
    "    section = row.section\n",
    "    data_dict[(id,section)].append((x,y))"
   ]
  },
  {
   "cell_type": "code",
   "execution_count": 5,
   "metadata": {},
   "outputs": [
    {
     "name": "stdout",
     "output_type": "stream",
     "text": [
      "64689 201 18\n",
      "64690 201 6\n",
      "64807 201 4\n",
      "64808 201 4\n",
      "64809 201 5\n",
      "64810 201 3\n",
      "64811 201 4\n"
     ]
    }
   ],
   "source": [
    "for (id,section), points in data_dict.items():\n",
    "    if section == 201:\n",
    "        print(id,section, len(points))"
   ]
  },
  {
   "cell_type": "code",
   "execution_count": null,
   "metadata": {},
   "outputs": [],
   "source": [
    "data = []\n",
    "for (id,section), points in data_dict.items():\n",
    "    lp = len(points)\n",
    "    for i in  range(lp):\n",
    "        tmp_dict = {}\n",
    "        pointA = points[i]\n",
    "        try:\n",
    "            pointB = points[i+1]\n",
    "        except IndexError as error:\n",
    "            pointB = points[0]\n",
    "        tmp_dict['id'] = random_string()\n",
    "        tmp_dict['pointA'] = [pointA[0], pointA[1], section]\n",
    "        tmp_dict['pointB'] = [pointB[0], pointB[1], section]\n",
    "        tmp_dict['type'] = 'line'\n",
    "        tmp_dict['description'] = \"\"\n",
    "        data.append(tmp_dict)"
   ]
  },
  {
   "cell_type": "code",
   "execution_count": 7,
   "metadata": {},
   "outputs": [
    {
     "name": "stdout",
     "output_type": "stream",
     "text": [
      "18 64689 201\n",
      "[(1408, 577), (1389, 582), (1367, 590), (1367, 591), (1350, 596), (1335, 601), (1328, 615), (1328, 629), (1348, 638), (1350, 639), (1370, 641), (1392, 635), (1402, 632), (1416, 616), (1427, 610), (1439, 598), (1442, 585), (1429, 578)]\n"
     ]
    }
   ],
   "source": [
    "id = 64689\n",
    "section = 201\n",
    "points = data_dict[(id,section)]\n",
    "print(len(points), id, section)\n",
    "#for (k,v), points in data_dict.items():\n",
    "#    print(k,v, len(points)\n",
    "print(points)\n"
   ]
  },
  {
   "cell_type": "code",
   "execution_count": null,
   "metadata": {},
   "outputs": [],
   "source": [
    "def interpolate(points, new_len):\n",
    "    x = [v[0] for v in points]\n",
    "    y = [v[1] for v in points]\n",
    "    vx = np.array(x)\n",
    "    vy = np.array(y)\n",
    "    indices = np.arange(0,len(points))\n",
    "    new_indices = np.linspace(0,len(points)-1,new_len)\n",
    "    splx = UnivariateSpline(indices,vx,k=3,s=0)\n",
    "    x_array = splx(new_indices)\n",
    "    sply = UnivariateSpline(indices,vy,k=3,s=1)\n",
    "    y_array = sply(new_indices)\n",
    "    arr_2d = np.concatenate([x_array[:,None],y_array[:,None]], axis=1)\n",
    "    a = list(map(tuple, arr_2d))\n",
    "    return a\n"
   ]
  },
  {
   "cell_type": "code",
   "execution_count": null,
   "metadata": {},
   "outputs": [],
   "source": [
    "points"
   ]
  },
  {
   "cell_type": "code",
   "execution_count": null,
   "metadata": {},
   "outputs": [],
   "source": [
    "points = sub_dict\n",
    "new_len = max(len(points),20)\n",
    "delta = (len(points)-1) / (new_len-1)\n",
    "\n",
    "#outp = [interpolate(points, i*delta) for i in range(new_len)]\n",
    "outp = interpolate(points, new_len)\n",
    "\n",
    "outp = [(int(i), int(j)) for i,j in outp]\n",
    "\n",
    "print('points',(points))\n",
    "print('lin out',outp)\n",
    "print('len original array', len(points))\n",
    "print('len new array', len(outp))\n",
    "\n",
    "\n"
   ]
  },
  {
   "cell_type": "code",
   "execution_count": null,
   "metadata": {},
   "outputs": [],
   "source": [
    "# python lists of x,y dst control points and zx=xsrc-xdiff, zy=ysrc-ydiff offsets to be interpolated over full image of size 129x129\n",
    "#x = [8.5, 20.5, 33.5, 48.5, 64.5, 80.5, 95.5, 109.5, 121.5, 5.5, 17.5, 31.5, 46.5, 64.5, 81.5, 97.5, 111.5, 123.5, 2.5, 14.5, 29.5, 45.5, 64.5, 83.5, 99.5, 113.5, 125.5, 1.5, 12.5, 26.5, 43.5, 64.5, 85.5, 103.5, 116.5, 127.5, 0.5, 11.5, 24.5, 41.5, 64.5, 87.5, 103.5, 117.5, 128.5, 1.5, 12.5, 25.5, 42.5, 64.5, 86.5, 103.5, 116.5, 127.5, 2.5, 14.5, 28.5, 45.5, 64.5, 83.5, 100.5, 114.5, 125.5, 5.5, 17.5, 30.5, 46.5, 64.5, 81.5, 97.5, 111.5, 123.5, 8.5, 19.5, 33.5, 48.5, 64.5, 80.5, 95.5, 109.5, 121.5]\n",
    "#y = [7.5, 5.5, 3.5, 1.5, 1.5, 1.5, 3.5, 5.5, 7.5, 20.5, 16.5, 14.5, 12.5, 11.5, 12.5, 15.5, 16.5, 19.5, 33.5, 31.5, 28.5, 26.5, 24.5, 26.5, 28.5, 31.5, 33.5, 48.5, 47.5, 45.5, 42.5, 40.5, 42.5, 45.5, 46.5, 48.5, 64.5, 64.5, 64.5, 64.5, 64.5, 64.5, 64.5, 64.5, 64.5, 80.5, 81.5, 83.5, 86.5, 87.5, 86.5, 83.5, 81.5, 80.5, 95.5, 97.5, 100.5, 103.5, 104.5, 102.5, 100.5, 97.5, 95.5, 109.5, 111.5, 114.5, 116.5, 117.5, 116.5, 114.5, 111.5, 109.5, 121.5, 123.5, 125.5, 127.5, 127.5, 127.5, 125.5, 123.5, 120.5]\n",
    "#zx = [119.5, 123.5, 126.5, 127.5, 127.5, 127.5, 128.5, 130.5, 134.5, 122.5, 126.5, 128.5, 129.5, 127.5, 126.5, 126.5, 128.5, 132.5, 125.5, 129.5, 130.5, 130.5, 127.5, 124.5, 124.5, 126.5, 130.5, 126.5, 131.5, 133.5, 132.5, 127.5, 122.5, 120.5, 123.5, 128.5, 127.5, 132.5, 135.5, 134.5, 127.5, 120.5, 120.5, 122.5, 127.5, 126.5, 131.5, 134.5, 133.5, 127.5, 121.5, 120.5, 123.5, 128.5, 125.5, 129.5, 131.5, 130.5, 127.5, 124.5, 123.5, 125.5, 130.5, 122.5, 126.5, 129.5, 129.5, 127.5, 126.5, 126.5, 128.5, 132.5, 119.5, 124.5, 126.5, 127.5, 127.5, 127.5, 128.5, 130.5, 134.5]\n",
    "#zy = [120.5, 122.5, 124.5, 126.5, 126.5, 126.5, 124.5, 122.5, 120.5, 123.5, 127.5, 129.5, 131.5, 132.5, 131.5, 128.5, 127.5, 124.5, 126.5, 128.5, 131.5, 133.5, 135.5, 133.5, 131.5, 128.5, 126.5, 127.5, 128.5, 130.5, 133.5, 135.5, 133.5, 130.5, 129.5, 127.5, 127.5, 127.5, 127.5, 127.5, 127.5, 127.5, 127.5, 127.5, 127.5, 127.5, 126.5, 124.5, 121.5, 120.5, 121.5, 124.5, 126.5, 127.5, 128.5, 126.5, 123.5, 120.5, 119.5, 121.5, 123.5, 126.5, 128.5, 130.5, 128.5, 125.5, 123.5, 122.5, 123.5, 125.5, 128.5, 130.5, 134.5, 132.5, 130.5, 128.5, 128.5, 128.5, 130.5, 132.5, 135.5]\n",
    "\n",
    "x = [v[0] for v in points]\n",
    "y = [v[1] for v in points]\n",
    "zx = [200 for x in points]\n",
    "# convert python lists to numpy arrays\n",
    "ax = np.asarray(x)\n",
    "ay = np.asarray(y)\n",
    "azx = np.asarray(zx)\n",
    "azy = np.asarray(zy)\n",
    "# define bbox of interpolated data\n",
    "minx = min(x)\n",
    "maxx = max(x)\n",
    "miny = min(y)\n",
    "maxy = max(y)\n",
    "bbox=[minx, maxx, miny, maxy]\n",
    "# convert bbox to numpy array\n",
    "abbox = np.asarray(bbox)\n",
    "# do interpolations\n",
    "xd = SmoothBivariateSpline(ax, ay, azx, w=None, bbox=abbox, kx=1, ky=1)\n",
    "interp_func = SmoothBivariateSpline(ax, ay, azx, s=0.1)"
   ]
  },
  {
   "cell_type": "code",
   "execution_count": 13,
   "metadata": {},
   "outputs": [
    {
     "data": {
      "text/plain": [
       "(18, 2)"
      ]
     },
     "execution_count": 13,
     "metadata": {},
     "output_type": "execute_result"
    }
   ],
   "source": [
    "pts = np.array(points)\n",
    "pts.shape"
   ]
  },
  {
   "cell_type": "code",
   "execution_count": 21,
   "metadata": {},
   "outputs": [
    {
     "data": {
      "image/png": "[encoded data removed]",
      "text/plain": [
       "<Figure size 432x288 with 1 Axes>"
      ]
     },
     "metadata": {
      "needs_background": "light"
     },
     "output_type": "display_data"
    }
   ],
   "source": [
    "new_len = 20\n",
    "tck, u = splprep(pts.T, u=None, s=0.0, per=1) \n",
    "u_new = np.linspace(u.min(), u.max(), new_len)\n",
    "x_array, y_array = splev(u_new, tck, der=0)\n",
    "\n",
    "plt.plot(pts[:,0], pts[:,1], 'ro')\n",
    "plt.plot(x_array, y_array, 'b--')\n",
    "plt.show()"
   ]
  },
  {
   "cell_type": "code",
   "execution_count": 22,
   "metadata": {},
   "outputs": [],
   "source": [
    "arr_2d = np.concatenate([x_array[:,None],y_array[:,None]], axis=1)\n",
    "a = list(map(tuple, arr_2d))"
   ]
  },
  {
   "cell_type": "code",
   "execution_count": 23,
   "metadata": {},
   "outputs": [
    {
     "data": {
      "text/plain": [
       "[(1408.0000000000005, 577.0),\n",
       " (1393.9586687919054, 581.0444229411221),\n",
       " (1376.4149752014998, 583.2579285380114),\n",
       " (1366.924550093013, 591.6945666371754),\n",
       " (1352.597879728592, 595.929145804964),\n",
       " (1337.081272092224, 599.3702758007798),\n",
       " (1329.111635891551, 611.1811145537563),\n",
       " (1327.1164359370287, 626.8019103400361),\n",
       " (1338.0171692698095, 634.7357031555487),\n",
       " (1352.7772731405482, 640.1239283024217),\n",
       " (1367.833155190216, 641.3099836989602),\n",
       " (1382.315196537733, 637.7653434202268),\n",
       " (1396.928442082968, 633.9037448558532),\n",
       " (1408.447139789787, 625.4240285155049),\n",
       " (1418.5160774672834, 614.2571136024791),\n",
       " (1431.5420773276257, 606.9623140697629),\n",
       " (1440.6209495858238, 594.5972792546534),\n",
       " (1439.980729365949, 581.2918507252957),\n",
       " (1425.7453967930242, 575.9699516628375),\n",
       " (1408.0, 576.9999999999999)]"
      ]
     },
     "execution_count": 23,
     "metadata": {},
     "output_type": "execute_result"
    }
   ],
   "source": [
    "a"
   ]
  },
  {
   "cell_type": "code",
   "execution_count": null,
   "metadata": {},
   "outputs": [],
   "source": [
    "#Set the resolution:\n",
    "x_res=20\n",
    "#y_res=int( ( (maxy-miny) / (maxx-minx) )*x_res )\n",
    "y_res=x_res\n",
    "#Make a grid\n",
    "grid_x, grid_y = np.mgrid[minx:maxx:x_res*1j, miny:maxy:y_res*1j]\n",
    "#xd.ev(grid_x[0,:], grid_y[0,:])"
   ]
  },
  {
   "cell_type": "code",
   "execution_count": null,
   "metadata": {},
   "outputs": [],
   "source": [
    "test_x = np.arange(minx, maxx, 0.5)\n",
    "test_y = np.arange(miny, maxy, 0.5)\n",
    "grid_x, grid_y = np.meshgrid(test_x, test_y)"
   ]
  },
  {
   "cell_type": "code",
   "execution_count": null,
   "metadata": {},
   "outputs": [],
   "source": [
    "interp_func(test_x, test_y)"
   ]
  },
  {
   "cell_type": "code",
   "execution_count": null,
   "metadata": {},
   "outputs": [],
   "source": [
    "xd(test_x, test_y)"
   ]
  },
  {
   "cell_type": "code",
   "execution_count": null,
   "metadata": {},
   "outputs": [],
   "source": [
    "file = f'{section}.tif' \n",
    "infile = os.path.join(INPUT, file)\n",
    "\n",
    "img = io.imread(infile, img_num=0)\n",
    "color = (255,255,255)\n",
    "for (id,s), points in data_dict.items():\n",
    "        if s == section and len(points) > 3:\n",
    "            new_len = max(len(points),5000)\n",
    "            print(new_len)\n",
    "            outp = interpolate(points, new_len)\n",
    "            points = [(int(i), int(j)) for i,j in outp]\n",
    "\n",
    "            lp = len(points)\n",
    "            for i in  range(new_len):\n",
    "                pointA = points[i]\n",
    "                try:\n",
    "                    pointB = points[i+1]\n",
    "                except IndexError as error:\n",
    "                    pointB = points[0]\n",
    "                cv2.line(img, pointA, pointB, color, 2)"
   ]
  },
  {
   "cell_type": "code",
   "execution_count": null,
   "metadata": {
    "scrolled": true
   },
   "outputs": [],
   "source": [
    "#cv2.polylines(img, [points], isClosed=True, color=(0,0,0), thickness=5)\n",
    "fig=plt.figure(figsize=(26,18), dpi= 100, facecolor='w', edgecolor='k')\n",
    "plt.imshow(img, cmap=\"gray\")\n",
    "plt.title('{} section:{}'.format(prep_id, section))\n",
    "plt.show()"
   ]
  }
 ],
 "metadata": {
  "kernelspec": {
   "display_name": "Django Shell-Plus",
   "language": "python",
   "name": "django_extensions"
  },
  "language_info": {
   "codemirror_mode": {
    "name": "ipython",
    "version": 3
   },
   "file_extension": ".py",
   "mimetype": "text/x-python",
   "name": "python",
   "nbconvert_exporter": "python",
   "pygments_lexer": "ipython3",
   "version": "3.8.5"
  }
 },
 "nbformat": 4,
 "nbformat_minor": 4
}
