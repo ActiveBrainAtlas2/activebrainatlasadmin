{
 "cells": [
  {
   "cell_type": "code",
   "execution_count": null,
   "metadata": {},
   "outputs": [],
   "source": [
    "import math, os, sys\n",
    "import json\n",
    "import plotly.express as px\n",
    "import pandas as pd\n",
    "sys.path.append('/home/eddyod/programming/activebrainatlas')\n",
    "os.environ[\"DJANGO_ALLOW_ASYNC_UNSAFE\"] = \"true\"\n",
    "os.environ.setdefault(\"DJANGO_SETTINGS_MODULE\", \"activebrainatlas.settings\")\n",
    "import django\n",
    "django.setup()"
   ]
  },
  {
   "cell_type": "code",
   "execution_count": null,
   "metadata": {},
   "outputs": [],
   "source": [
    "from neuroglancer.models import UrlModel, LayerData"
   ]
  },
  {
   "cell_type": "code",
   "execution_count": null,
   "metadata": {},
   "outputs": [],
   "source": [
    "def find_values(id, json_repr):\n",
    "    results = []\n",
    "    def _decode_dict(a_dict):\n",
    "        try:\n",
    "            results.append(a_dict[id])\n",
    "        except KeyError:\n",
    "            pass\n",
    "        return a_dict\n",
    "\n",
    "    json.loads(json_repr, object_hook=_decode_dict) # Return value ignored.\n",
    "    return results"
   ]
  },
  {
   "cell_type": "code",
   "execution_count": null,
   "metadata": {},
   "outputs": [],
   "source": [
    "id = 164\n",
    "urlModel = UrlModel.objects.get(pk=id)"
   ]
  },
  {
   "cell_type": "code",
   "execution_count": null,
   "metadata": {},
   "outputs": [],
   "source": [
    "point_data = find_values('annotations', urlModel.url)"
   ]
  },
  {
   "cell_type": "code",
   "execution_count": null,
   "metadata": {},
   "outputs": [],
   "source": [
    "json_txt = json.loads(urlModel.url)\n",
    "type(json_txt)"
   ]
  },
  {
   "cell_type": "code",
   "execution_count": null,
   "metadata": {},
   "outputs": [],
   "source": [
    "layers = json_txt['layers']\n",
    "dfs = []\n",
    "for l in layers:\n",
    "    if 'annotations' in l:\n",
    "        name = l['name']\n",
    "        annotation = l['annotations']\n",
    "        d = [row['point'] for row in annotation]\n",
    "        df = pd.DataFrame(d, columns=['X', 'Y', 'Section'])\n",
    "        df = df.round(decimals=0)\n",
    "        df['Layer'] = name\n",
    "        dfs.append(df)\n",
    "\n",
    "        \n",
    "result = pd.concat(dfs)\n",
    "result.tail(10)"
   ]
  },
  {
   "cell_type": "code",
   "execution_count": null,
   "metadata": {},
   "outputs": [],
   "source": [
    "dfs = []\n",
    "for l in layers:\n",
    "    if 'annotations' in l:\n",
    "        name = l['name']\n",
    "        annotation = l['annotations']\n",
    "        d = [row['point'] for row in annotation]\n",
    "        df = pd.DataFrame(d, columns=['X', 'Y', 'Section'])\n",
    "        trunc = lambda x: math.trunc(x)\n",
    "        df = df.applymap(trunc)\n",
    "        df['Layer'] = name\n",
    "        df = df[['Layer', 'X', 'Y', 'Section']]\n",
    "        dfs.append(df)\n",
    "if len(dfs) == 0:\n",
    "    result = None\n",
    "elif len(dfs) == 1:\n",
    "    result = dfs[0]\n",
    "else:\n",
    "    result = pd.concat(dfs)"
   ]
  },
  {
   "cell_type": "code",
   "execution_count": null,
   "metadata": {},
   "outputs": [],
   "source": [
    "for index, row in result.iterrows():\n",
    "    "
   ]
  },
  {
   "cell_type": "code",
   "execution_count": null,
   "metadata": {},
   "outputs": [],
   "source": [
    "#point_dict"
   ]
  },
  {
   "cell_type": "code",
   "execution_count": null,
   "metadata": {},
   "outputs": [],
   "source": [
    "df.head()"
   ]
  },
  {
   "cell_type": "code",
   "execution_count": null,
   "metadata": {},
   "outputs": [],
   "source": [
    "#df = px.data.iris()\n",
    "fig = px.scatter_3d(df, x='X', y='Y', z='Section',\n",
    "              color='Section', opacity=0.7)\n",
    "fig.update_layout(margin=dict(l=0, r=0, b=0, t=0))\n",
    "fig.show()"
   ]
  }
 ],
 "metadata": {
  "kernelspec": {
   "display_name": "Django Shell-Plus",
   "language": "python",
   "name": "django_extensions"
  },
  "language_info": {
   "codemirror_mode": {
    "name": "ipython",
    "version": 3
   },
   "file_extension": ".py",
   "mimetype": "text/x-python",
   "name": "python",
   "nbconvert_exporter": "python",
   "pygments_lexer": "ipython3",
   "version": "3.8.5"
  }
 },
 "nbformat": 4,
 "nbformat_minor": 4
}
