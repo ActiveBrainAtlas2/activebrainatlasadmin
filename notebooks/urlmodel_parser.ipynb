{
 "cells": [
  {
   "cell_type": "code",
   "execution_count": 1,
   "metadata": {},
   "outputs": [],
   "source": [
    "import math, os, sys\n",
    "import json\n",
    "import ast\n",
    "import plotly.express as px\n",
    "import pandas as pd\n",
    "from datetime import datetime\n",
    "sys.path.append('/home/eddyod/programming/activebrainatlas')\n",
    "os.environ[\"DJANGO_ALLOW_ASYNC_UNSAFE\"] = \"true\"\n",
    "os.environ.setdefault(\"DJANGO_SETTINGS_MODULE\", \"activebrainatlas.settings\")\n",
    "import django\n",
    "django.setup()"
   ]
  },
  {
   "cell_type": "code",
   "execution_count": 2,
   "metadata": {},
   "outputs": [],
   "source": [
    "from neuroglancer.models import UrlModel, LayerData, CenterOfMass, Structure\n",
    "from brain.models import Animal"
   ]
  },
  {
   "cell_type": "code",
   "execution_count": null,
   "metadata": {},
   "outputs": [],
   "source": [
    "def find_values(id, json_repr):\n",
    "    results = []\n",
    "    def _decode_dict(a_dict):\n",
    "        try:\n",
    "            results.append(a_dict[id])\n",
    "        except KeyError:\n",
    "            pass\n",
    "        return a_dict\n",
    "\n",
    "    json.loads(json_repr, object_hook=_decode_dict) # Return value ignored.\n",
    "    return results"
   ]
  },
  {
   "cell_type": "code",
   "execution_count": 3,
   "metadata": {},
   "outputs": [],
   "source": [
    "id = 210\n",
    "urlModel = UrlModel.objects.get(pk=id)\n",
    "prep_id = urlModel.animal\n",
    "prep = Animal.objects.get(pk=prep_id)"
   ]
  },
  {
   "cell_type": "code",
   "execution_count": 4,
   "metadata": {},
   "outputs": [
    {
     "data": {
      "text/plain": [
       "'DK54'"
      ]
     },
     "execution_count": 4,
     "metadata": {},
     "output_type": "execute_result"
    }
   ],
   "source": [
    "prep.prep_id"
   ]
  },
  {
   "cell_type": "code",
   "execution_count": null,
   "metadata": {},
   "outputs": [],
   "source": [
    "point_data = find_values('annotations', urlModel.url)"
   ]
  },
  {
   "cell_type": "code",
   "execution_count": 6,
   "metadata": {},
   "outputs": [],
   "source": [
    "json_txt = json.loads(urlModel.url)\n",
    "layers = json_txt['layers']"
   ]
  },
  {
   "cell_type": "code",
   "execution_count": null,
   "metadata": {},
   "outputs": [],
   "source": [
    "for layer in layers:\n",
    "    if 'annotations' in layer:\n",
    "        annotation = layer['annotations']\n",
    "        d = [row['point'] for row in annotation]\n",
    "        print(d)\n"
   ]
  },
  {
   "cell_type": "code",
   "execution_count": 9,
   "metadata": {},
   "outputs": [
    {
     "name": "stdout",
     "output_type": "stream",
     "text": [
      "{'type': 'annotation', 'source': {'url': 'local://annotations', 'transform': {'outputDimensions': {'x': [3.25e-07, 'm'], 'y': [3.25e-07, 'm'], 'z': [2e-05, 'm']}, 'inputDimensions': {'0': [1e-05, 'm'], '1': [1e-05, 'm'], '2': [2e-05, 'm']}, 'operations': [0, 0, 0, 0, 0, 0, 1, 1, 1, 1e-05, 0.0001, 0.5, 5, 0.01, 0.1]}}, 'tool': 'annotatePoint', 'annotations': [{'point': [1029.779052734375, 340.7862854003906, 192.5], 'type': 'point', 'id': '710a4ed6f193e53faa173f77ace7d283f2a51922', 'description': 'SC'}, {'point': [1030.948486328125, 736.0538940429688, 200.5], 'type': 'point', 'id': '8f15ee9bb13fc09f43a3816d7df01d824c8dca77', 'description': 'Pn_L'}, {'point': [1071.8785400390625, 713.834716796875, 270.5], 'type': 'point', 'id': 'f7cd58ca7ed0d0e787af9fc69f74ea4f73a94fb4', 'description': 'Pn_R'}, {'point': [1091.273681640625, 313.3565368652344, 270.5], 'type': 'point', 'id': 'b773e0a30fa42422da3502b6422367a72f4d14b8'}], 'filterBySegmentation': ['segments'], 'name': 'COM'}\n"
     ]
    }
   ],
   "source": [
    "side = 'S'\n",
    "for layer in layers:\n",
    "    if 'annotations' in layer:\n",
    "        lname = layer['name']\n",
    "        if 'com' in lname.lower():\n",
    "            annotation = layer['annotations']\n",
    "            #print(layer)\n",
    "            #continue\n",
    "            for com in annotation:\n",
    "                x = com['point'][0]\n",
    "                y = com['point'][1]\n",
    "                z = com['point'][2]\n",
    "                description = com['description']\n",
    "                if description.endswith('_L'):\n",
    "                    structure = description.replace('_L','')\n",
    "                    side = 'L'\n",
    "                elif description.endswith('_R'):\n",
    "                    structure = description.replace('_R','')\n",
    "                    side = 'R'\n",
    "                else:\n",
    "                    structure = description\n",
    "                    side = 'S'\n",
    "                    \n",
    "                structure = Structure.objects.get(abbreviation=structure)\n",
    "                print(x,y,z,description, structure.id)\n",
    "                centerOfMass = CenterOfMass(prep=prep, structure=structure,x=x,y=y,section=z,side=side,active=True,created=datetime.now())\n",
    "                centerOfMass.save()"
   ]
  },
  {
   "cell_type": "code",
   "execution_count": null,
   "metadata": {},
   "outputs": [],
   "source": [
    "structure = Structure.objects.get(abbreviation='Pn')\n",
    "print(structure.id)"
   ]
  },
  {
   "cell_type": "code",
   "execution_count": null,
   "metadata": {},
   "outputs": [],
   "source": [
    "reference_centers = sql_controller.get_centers_dict(prep.prep_id)\n",
    "atlas_box_size=(2010,1490,  447)\n",
    "align_atlas(reference_centers, reference_scales=(0.00001, 0.00001, 20))"
   ]
  },
  {
   "cell_type": "code",
   "execution_count": null,
   "metadata": {},
   "outputs": [],
   "source": [
    "#df = px.data.iris()\n",
    "fig = px.scatter_3d(df, x='X', y='Y', z='Section',\n",
    "              color='Section', opacity=0.7)\n",
    "fig.update_layout(margin=dict(l=0, r=0, b=0, t=0))\n",
    "fig.show()"
   ]
  }
 ],
 "metadata": {
  "kernelspec": {
   "display_name": "Django Shell-Plus",
   "language": "python",
   "name": "django_extensions"
  },
  "language_info": {
   "codemirror_mode": {
    "name": "ipython",
    "version": 3
   },
   "file_extension": ".py",
   "mimetype": "text/x-python",
   "name": "python",
   "nbconvert_exporter": "python",
   "pygments_lexer": "ipython3",
   "version": "3.8.5"
  }
 },
 "nbformat": 4,
 "nbformat_minor": 4
}
